{
 "cells": [
  {
   "cell_type": "code",
   "execution_count": null,
   "metadata": {},
   "outputs": [],
   "source": [
    "from bs4 import BeautifulSoup\n",
    "import requests\n",
    "import re"
   ]
  },
  {
   "cell_type": "code",
   "execution_count": null,
   "metadata": {},
   "outputs": [],
   "source": [
    "urlpage =  'https://en.wikipedia.org/wiki/List_of_Presidents_of_the_United_States'\n",
    "r = requests.get(urlpage)\n",
    "soup = BeautifulSoup(r.text, 'html.parser')"
   ]
  },
  {
   "cell_type": "code",
   "execution_count": null,
   "metadata": {},
   "outputs": [],
   "source": [
    "table = soup.find('table', attrs={'class': 'wikitable'})"
   ]
  },
  {
   "cell_type": "code",
   "execution_count": null,
   "metadata": {},
   "outputs": [],
   "source": [
    "results = table.find_all('tr')"
   ]
  },
  {
   "cell_type": "code",
   "execution_count": null,
   "metadata": {},
   "outputs": [],
   "source": [
    "cnt=1\n",
    "nxt=False\n",
    "x_cnt=0 #counter for row number\n",
    "ch_cnt=0\n",
    "ch_list=[]\n",
    "# There are 45 rows for 45 presidents\n",
    "# A row can have many child rows for \"terms\" or \"Vice presidents\"\n",
    "# We have to identify when a parent row begins\n",
    "# We shall use serial number mentioned in first column to identify beginning of new row\n",
    "print(len(results))\n",
    "\n",
    "final_result = dict()\n",
    "tappo = 0\n",
    "for x in results:\n",
    "    \n",
    "    if x in range (2, len(x)):\n",
    "        continue # skipping first two rows. they are table headers\n",
    "        \n",
    "    # A parent row will always have 9 columns. hence 9 tds \n",
    "    # A child row will have 1, or 2 columns i.e. \"term\" & \"vice presidents\"          \n",
    "        \n",
    "    tds=x.find_all('td',rowspan=False)\n",
    "    tds1=x.find_all('td',rowspan=True)\n",
    "    tds2=x.find_all('td')\n",
    "    try:\n",
    "        if(len(tds2) > 5):\n",
    "            x_cnt = x_cnt+1 #Increment row number\n",
    "            \n",
    "            #This is a parent row\n",
    "            # i.e. beginning of new row in table\n",
    "            cntt=1\n",
    "            #print child rows of previous parent if exists\n",
    "\n",
    "            \n",
    "            if len(ch_list) >0:\n",
    "                for y in ch_list:\n",
    "                    try:\n",
    "                        print (\"Child row column \", \": \", y.get_text())\n",
    "                    except:\n",
    "                        print (\"Child row column \", \": \", y.get_text().encode(\"utf-8\"))\n",
    "            ch_cnt=0 #resetting child row count\n",
    "            ch_list=[] #resetting child list\n",
    "            for y in tds2:\n",
    "                if y.get_text() == x_cnt:\n",
    "                    print (\"------------------------------\")\n",
    "                    print (x_cnt)\n",
    "                    cntt=cntt+1\n",
    "                    tappo = tappo+1\n",
    "                    continue\n",
    "                try:\n",
    "                    print (\"column No.\", cntt,\": \", y.get_text())\n",
    "#                     temp = y.get_text()\n",
    "#                     if(cntt not in final_result):\n",
    "#                         final_result[cntt] = [temp]\n",
    "#                     else:\n",
    "#                         final_result[cntt].append(temp)\n",
    "\n",
    "                except:\n",
    "                    print (\"column No.\", cntt,\": \", y.get_text().encode(\"utf-8\"))\n",
    "#                     temp = y.get_text()\n",
    "#                     if(cntt not in final_result):\n",
    "#                         final_result[cntt] = [temp]\n",
    "#                     else:\n",
    "#                         final_result[cntt].append(temp)\n",
    "                cntt=cntt+1                   \n",
    "        else:\n",
    "            #This is a child row. Append all childs in child list.\n",
    "            for y in tds2:\n",
    "                ch_cnt=ch_cnt+1\n",
    "                ch_list.append(y)\n",
    "    except Exception as e:\n",
    "        print (\"Error occured at here.: \", e, \"... Continuing ahead\")\n",
    "        "
   ]
  },
  {
   "cell_type": "code",
   "execution_count": null,
   "metadata": {},
   "outputs": [],
   "source": [
    "for i in range(len(arr)):\n",
    "    print(len(arr[i]))\n",
    "#print(len(arr[0]))"
   ]
  },
  {
   "cell_type": "code",
   "execution_count": null,
   "metadata": {},
   "outputs": [],
   "source": [
    "table_dict = dict()\n",
    "table_dict['index'] = []\n",
    "table_dict['presidency']=[]\n",
    "#table_dict['president']=[]\n",
    "table_dict['name']=[]\n",
    "table_dict['prior_office']=[]\n",
    "table_dict['party']=[]\n",
    "table_dict['vp']=[]"
   ]
  },
  {
   "cell_type": "code",
   "execution_count": null,
   "metadata": {},
   "outputs": [],
   "source": [
    "table_dict = dict()\n",
    "table_dict['index'] = []\n",
    "table_dict['presidency']=[]\n",
    "#table_dict['president']=[]\n",
    "table_dict['name']=[]\n",
    "table_dict['prior_office']=[]\n",
    "table_dict['party']=[]\n",
    "table_dict['vp']=[]\n",
    "\n",
    "for i in range(len(arr)):\n",
    "    for j in range(len(arr[i])):\n",
    "        if(i==0):\n",
    "            table_dict['index'].append(arr[i][j])\n",
    "            continue\n",
    "        if(i==1):\n",
    "            table_dict['presidency'].append(arr[i][j])\n",
    "            continue\n",
    "        if(i==3):\n",
    "            table_dict['name'].append(arr[i][j])\n",
    "            continue\n",
    "        if(i==4):\n",
    "            table_dict['prior_office'].append(arr[i][j])\n",
    "            continue\n",
    "        if(i==6):\n",
    "            table_dict['party'].append(arr[i][j])\n",
    "            continue"
   ]
  },
  {
   "cell_type": "code",
   "execution_count": null,
   "metadata": {},
   "outputs": [],
   "source": [
    "for i in range(len(arr)):\n",
    "    print(arr[i])\n",
    "    print(\"_____________________________________________\")"
   ]
  },
  {
   "cell_type": "code",
   "execution_count": null,
   "metadata": {},
   "outputs": [],
   "source": [
    "for key in table_dict:\n",
    "    print(key,len(table_dict[key]))\n",
    "    \n",
    "print(table_dict['presidency'])"
   ]
  },
  {
   "cell_type": "code",
   "execution_count": null,
   "metadata": {},
   "outputs": [],
   "source": [
    "final_table_ke_liye_dictionary = {}\n",
    "final_table_ke_liye_dictionary['Serial Number'] = []\n",
    "final_table_ke_liye_dictionary['Presidency Start Date'] = []\n",
    "final_table_ke_liye_dictionary['Presidency End Date'] = []\n",
    "final_table_ke_liye_dictionary['President Name'] = []\n",
    "final_table_ke_liye_dictionary['Birth Year'] = []\n",
    "final_table_ke_liye_dictionary['Death Year'] = []\n",
    "final_table_ke_liye_dictionary['Age'] = []\n",
    "final_table_ke_liye_dictionary['Prior Office'] = []\n",
    "final_table_ke_liye_dictionary['Party'] = []"
   ]
  },
  {
   "cell_type": "code",
   "execution_count": null,
   "metadata": {},
   "outputs": [],
   "source": [
    "# \\n hatane ke liye\n",
    "line = table_dict['index']\n",
    "line = [i.replace('\\n','') for i in line]\n",
    "final_table_ke_liye_dictionary['Serial Number'] = line\n",
    "\n",
    "\n",
    "temp_presidency = table_dict['presidency']\n",
    "for element in temp_presidency:\n",
    "    element.replace('\\n','')\n",
    "    #print(element)\n",
    "    terms = element.split('–')\n",
    "\n",
    "    if('[' in terms[0]):\n",
    "        index = terms[0].find('[')\n",
    "        terms[0] = terms[0][:index]\n",
    "    \n",
    "    if('[' in terms[1]):\n",
    "        index = terms[1].find('[')\n",
    "        terms[1] = terms[1][:index]\n",
    "    \n",
    "    \n",
    "    final_table_ke_liye_dictionary['Presidency Start Date'].append(terms[0])\n",
    "    final_table_ke_liye_dictionary['Presidency End Date'].append(terms[1])\n",
    "    "
   ]
  },
  {
   "cell_type": "code",
   "execution_count": null,
   "metadata": {},
   "outputs": [],
   "source": [
    "name = table_dict['name']\n",
    "for element in name:\n",
    "    index = element.find('[')\n",
    "    cleaned_value = element[:index]\n",
    "    \n",
    "    x = cleaned_value.split('(')\n",
    "    if('Lived' in x[1]):\n",
    "        y = x[1].split(':')\n",
    "        pres_age = y[1].split(' ')[1]\n",
    "    else:\n",
    "        pres_age = x[1].split(' ')[0]\n",
    "    final_table_ke_liye_dictionary['Age'].append(pres_age)\n",
    "    #print(age)\n",
    "    #print(president_name)\n",
    "    #print(x[0])\n",
    "    if('–' in x[0]):\n",
    "        #print(\"Inside\")\n",
    "        birth_index = x[0].find('1')\n",
    "        pres_name = x[0][:birth_index]\n",
    "        dates = x[0][birth_index:]\n",
    "        final_table_ke_liye_dictionary['President Name'].append(pres_name)\n",
    "        final_table_ke_liye_dictionary['Birth Year'].append(dates.split('–')[0])\n",
    "        final_table_ke_liye_dictionary['Death Year'].append(dates.split('–')[1])\n",
    "        \n",
    "    #print(final_table_ke_liye_dictionary['Birth Year'])\n",
    "    else:\n",
    "        birth_index = x[0].find('1')\n",
    "        dates = x[0][birth_index:]\n",
    "        pres_name = x[0][:birth_index]\n",
    "        #print(pres_name[:-5])\n",
    "        final_table_ke_liye_dictionary['President Name'].append(pres_name[:-5])\n",
    "        final_table_ke_liye_dictionary['Birth Year'].append(dates)\n",
    "        final_table_ke_liye_dictionary['Death Year'].append('–')\n",
    "        \n",
    "        \n",
    "        \n",
    "line = table_dict['prior_office']\n",
    "line = [i.replace('\\n','') for i in line]\n",
    "final_table_ke_liye_dictionary['Prior Office'] = line\n"
   ]
  },
  {
   "cell_type": "code",
   "execution_count": null,
   "metadata": {},
   "outputs": [],
   "source": [
    "temp_party = table_dict['party']\n",
    "temp_party = [i.replace('\\n','') for i in temp_party]\n",
    "\n",
    "for element in temp_party:\n",
    "    if('[' in element):\n",
    "        index = element.find('[')\n",
    "        cleaned_value = element[:index]\n",
    "        #print(cleaned_value)\n",
    "        final_table_ke_liye_dictionary['Party'].append(cleaned_value)\n",
    "    else:\n",
    "        final_table_ke_liye_dictionary['Party'].append(element)"
   ]
  },
  {
   "cell_type": "code",
   "execution_count": null,
   "metadata": {},
   "outputs": [],
   "source": [
    "for keys in final_table_ke_liye_dictionary:\n",
    "    print(len(final_table_ke_liye_dictionary[keys]))\n"
   ]
  },
  {
   "cell_type": "code",
   "execution_count": null,
   "metadata": {},
   "outputs": [],
   "source": [
    "print(final_table_ke_liye_dictionary['Serial Number'])"
   ]
  },
  {
   "cell_type": "code",
   "execution_count": null,
   "metadata": {},
   "outputs": [],
   "source": [
    "print(final_table_ke_liye_dictionary['Presidency Start Date'])"
   ]
  },
  {
   "cell_type": "code",
   "execution_count": null,
   "metadata": {},
   "outputs": [],
   "source": [
    "print(final_table_ke_liye_dictionary['Presidency End Date'])"
   ]
  },
  {
   "cell_type": "code",
   "execution_count": null,
   "metadata": {},
   "outputs": [],
   "source": [
    "print(final_table_ke_liye_dictionary['President Name'])"
   ]
  },
  {
   "cell_type": "code",
   "execution_count": null,
   "metadata": {},
   "outputs": [],
   "source": [
    "print(final_table_ke_liye_dictionary['Birth Year'])"
   ]
  },
  {
   "cell_type": "code",
   "execution_count": null,
   "metadata": {},
   "outputs": [],
   "source": [
    "print(final_table_ke_liye_dictionary['Death Year'])"
   ]
  },
  {
   "cell_type": "code",
   "execution_count": null,
   "metadata": {},
   "outputs": [],
   "source": [
    "print(final_table_ke_liye_dictionary['Age'])"
   ]
  },
  {
   "cell_type": "code",
   "execution_count": null,
   "metadata": {},
   "outputs": [],
   "source": [
    "print(final_table_ke_liye_dictionary['Prior Office'])"
   ]
  },
  {
   "cell_type": "code",
   "execution_count": null,
   "metadata": {},
   "outputs": [],
   "source": [
    "print(final_table_ke_liye_dictionary['Party'])"
   ]
  },
  {
   "cell_type": "code",
   "execution_count": null,
   "metadata": {},
   "outputs": [],
   "source": [
    "print(final_table_ke_liye_dictionary['Presidency End Date'])"
   ]
  },
  {
   "cell_type": "code",
   "execution_count": null,
   "metadata": {},
   "outputs": [],
   "source": [
    "import pandas as pd\n",
    "import numpy as np\n",
    "\n",
    "df=pd.DataFrame.from_dict(final_table_ke_liye_dictionary)\n",
    "\n",
    "df.index = range(1,len(df)+1)\n",
    "df=df.apply(pd.to_numeric, errors='ignore')"
   ]
  },
  {
   "cell_type": "code",
   "execution_count": null,
   "metadata": {},
   "outputs": [],
   "source": [
    "#Prints first 5 rows\n",
    "df.head()"
   ]
  },
  {
   "cell_type": "code",
   "execution_count": null,
   "metadata": {},
   "outputs": [],
   "source": [
    "#Reordering of columns\n",
    "df = df[['Presidency Start Date','Presidency End Date','President Name','Birth Year','Death Year','Age','Prior Office','Party']]\n",
    "df.head()"
   ]
  },
  {
   "cell_type": "code",
   "execution_count": null,
   "metadata": {},
   "outputs": [],
   "source": [
    "# df.drop(['Serial Number'], axis=1)"
   ]
  }
 ],
 "metadata": {
  "kernelspec": {
   "display_name": "Python 3",
   "language": "python",
   "name": "python3"
  },
  "language_info": {
   "codemirror_mode": {
    "name": "ipython",
    "version": 3
   },
   "file_extension": ".py",
   "mimetype": "text/x-python",
   "name": "python",
   "nbconvert_exporter": "python",
   "pygments_lexer": "ipython3",
   "version": "3.7.1"
  }
 },
 "nbformat": 4,
 "nbformat_minor": 2
}
